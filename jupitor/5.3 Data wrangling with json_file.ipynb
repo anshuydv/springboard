{
 "cells": [
  {
   "cell_type": "code",
   "execution_count": 169,
   "metadata": {},
   "outputs": [],
   "source": [
    "import numpy as np\n",
    "import pandas as pd\n",
    "import os,json"
   ]
  },
  {
   "cell_type": "code",
   "execution_count": 137,
   "metadata": {},
   "outputs": [],
   "source": [
    "PATH = \"/Users/ayadav/Documents/personal/DS/springboard/data_wrangling_json_3/data/*\""
   ]
  },
  {
   "cell_type": "code",
   "execution_count": 138,
   "metadata": {},
   "outputs": [
    {
     "name": "stdout",
     "output_type": "stream",
     "text": [
      "/Users/ayadav/Documents/personal/DS/springboard/data_wrangling_json_3/data/world_bank_projects.json\r\n",
      "/Users/ayadav/Documents/personal/DS/springboard/data_wrangling_json_3/data/world_bank_projects_less.json\r\n"
     ]
    }
   ],
   "source": [
    "!ls {PATH}"
   ]
  },
  {
   "cell_type": "markdown",
   "metadata": {},
   "source": [
    "### Create path for loading file"
   ]
  },
  {
   "cell_type": "code",
   "execution_count": 139,
   "metadata": {},
   "outputs": [],
   "source": [
    "PATH1= \"/Users/ayadav/Documents/personal/DS/springboard/data_wrangling_json_3/data/world_bank_projects.json\""
   ]
  },
  {
   "cell_type": "code",
   "execution_count": 140,
   "metadata": {},
   "outputs": [
    {
     "name": "stdout",
     "output_type": "stream",
     "text": [
      "/Users/ayadav/Documents/personal/DS/springboard/data_wrangling_json_3/data/world_bank_projects.json\r\n"
     ]
    }
   ],
   "source": [
    "!ls {PATH1}"
   ]
  },
  {
   "cell_type": "markdown",
   "metadata": {},
   "source": [
    "### Load second file"
   ]
  },
  {
   "cell_type": "code",
   "execution_count": 183,
   "metadata": {},
   "outputs": [],
   "source": [
    "PATH2 = \"/Users/ayadav/Documents/personal/DS/springboard/data_wrangling_json_3/data/world_bank_projects_less.json\""
   ]
  },
  {
   "cell_type": "code",
   "execution_count": 184,
   "metadata": {},
   "outputs": [],
   "source": [
    "data = pd.read_json(PATH1)"
   ]
  },
  {
   "cell_type": "code",
   "execution_count": 185,
   "metadata": {},
   "outputs": [
    {
     "name": "stdout",
     "output_type": "stream",
     "text": [
      "                                                sector supplementprojectflg  \\\n",
      "0    [{'Name': 'Primary education'}, {'Name': 'Seco...                    N   \n",
      "1    [{'Name': 'Public administration- Other social...                    N   \n",
      "2    [{'Name': 'Rural and Inter-Urban Roads and Hig...                    Y   \n",
      "3                  [{'Name': 'Other social services'}]                    N   \n",
      "4    [{'Name': 'General industry and trade sector'}...                    N   \n",
      "..                                                 ...                  ...   \n",
      "495  [{'Name': 'General agriculture, fishing and fo...                    N   \n",
      "496  [{'Name': 'Central government administration'}...                    N   \n",
      "497  [{'Name': 'Irrigation and drainage'}, {'Name':...                    N   \n",
      "498  [{'Name': 'Agricultural extension and research...                    N   \n",
      "499  [{'Name': 'Urban Transport'}, {'Name': 'Public...                    N   \n",
      "\n",
      "    projectfinancialtype prodline  \\\n",
      "0                    IDA       PE   \n",
      "1                  OTHER       RE   \n",
      "2                    IDA       PE   \n",
      "3                  OTHER       RE   \n",
      "4                    IDA       PE   \n",
      "..                   ...      ...   \n",
      "495                OTHER       RE   \n",
      "496                  IDA       PE   \n",
      "497                OTHER       RE   \n",
      "498                 IBRD       PE   \n",
      "499                  IDA       PE   \n",
      "\n",
      "                                               mjtheme  idacommamt  \\\n",
      "0                                  [Human development]   130000000   \n",
      "1    [Economic management, Social protection and ri...           0   \n",
      "2    [Trade and integration, Public sector governan...     6060000   \n",
      "3    [Social dev/gender/inclusion, Social dev/gende...           0   \n",
      "4    [Trade and integration, Financial and private ...    13100000   \n",
      "..                                                 ...         ...   \n",
      "495  [Financial and private sector development, Soc...           0   \n",
      "496  [Human development, Trade and integration, Pub...    20000000   \n",
      "497                                [Rural development]           0   \n",
      "498  [Rural development, Rural development, Rural d...           0   \n",
      "499  [Urban development, Human development, Trade a...   300000000   \n",
      "\n",
      "                                             impagency  \\\n",
      "0                                MINISTRY OF EDUCATION   \n",
      "1                                  MINISTRY OF FINANCE   \n",
      "2             MINISTRY OF TRANSPORT AND COMMUNICATIONS   \n",
      "3             LABOR INTENSIVE PUBLIC WORKS PROJECT PMU   \n",
      "4                       MINISTRY OF TRADE AND INDUSTRY   \n",
      "..                                                 ...   \n",
      "495                        THE COMPETITIVENESS COMPANY   \n",
      "496                                MINISTRY OF FINANCE   \n",
      "497  MINISTRY OF AGRICULTURE AND PRODUCER ORGANISAT...   \n",
      "498  INDONESIAN AGENCY FOR AGRICULTURAL RESEARCH AN...   \n",
      "499                                  MINISTRY OF ROADS   \n",
      "\n",
      "                                          project_name mjthemecode  \\\n",
      "0    Ethiopia General Education Quality Improvement...        8,11   \n",
      "1            TN: DTF Social Protection Reforms Support         1,6   \n",
      "2    Tuvalu Aviation Investment Project - Additiona...    5,2,11,6   \n",
      "3     Gov't and Civil Society Organization Partnership         7,7   \n",
      "4    Second Private Sector Competitiveness and Econ...         5,4   \n",
      "..                                                 ...         ...   \n",
      "495  Technological Scale Up for Youth-led Urban Orn...         4,7   \n",
      "496                Lao Eight Poverty Reduction Support     8,5,2,8   \n",
      "497  Second Emergency Agricultural Productivity Sup...        10,6   \n",
      "498  Sustainable Management of Agricultural Researc...    10,10,10   \n",
      "499  KENYA: NATIONAL URBAN TRANSPORT IMPROVEMENT PR...     9,8,5,4   \n",
      "\n",
      "              closingdate  ...  \\\n",
      "0    2018-07-07T00:00:00Z  ...   \n",
      "1                     NaN  ...   \n",
      "2                     NaN  ...   \n",
      "3                     NaN  ...   \n",
      "4    2019-04-30T00:00:00Z  ...   \n",
      "..                    ...  ...   \n",
      "495  2013-08-31T00:00:00Z  ...   \n",
      "496  2012-12-31T00:00:00Z  ...   \n",
      "497  2014-12-31T00:00:00Z  ...   \n",
      "498  2017-09-30T00:00:00Z  ...   \n",
      "499  2018-12-31T00:00:00Z  ...   \n",
      "\n",
      "                                   majorsector_percent board_approval_month  \\\n",
      "0    [{'Percent': 46, 'Name': 'Education'}, {'Perce...             November   \n",
      "1    [{'Percent': 70, 'Name': 'Public Administratio...             November   \n",
      "2         [{'Percent': 100, 'Name': 'Transportation'}]             November   \n",
      "3    [{'Percent': 100, 'Name': 'Health and other so...              October   \n",
      "4    [{'Percent': 50, 'Name': 'Industry and trade'}...              October   \n",
      "..                                                 ...                  ...   \n",
      "495  [{'Percent': 50, 'Name': 'Agriculture, fishing...               August   \n",
      "496  [{'Percent': 36, 'Name': 'Public Administratio...               August   \n",
      "497  [{'Percent': 40, 'Name': 'Agriculture, fishing...               August   \n",
      "498  [{'Percent': 80, 'Name': 'Agriculture, fishing...               August   \n",
      "499  [{'Percent': 79, 'Name': 'Transportation'}, {'...               August   \n",
      "\n",
      "                                        theme_namecode  \\\n",
      "0        [{'code': '65', 'name': 'Education for all'}]   \n",
      "1    [{'code': '24', 'name': 'Other economic manage...   \n",
      "2    [{'code': '47', 'name': 'Regional integration'...   \n",
      "3    [{'code': '57', 'name': 'Participation and civ...   \n",
      "4    [{'code': '45', 'name': 'Export development an...   \n",
      "..                                                 ...   \n",
      "495  [{'code': '40', 'name': 'Regulation and compet...   \n",
      "496  [{'code': '63', 'name': 'Child health'}, {'cod...   \n",
      "497  [{'code': '91', 'name': 'Global food crisis re...   \n",
      "498  [{'code': '78', 'name': 'Rural services and in...   \n",
      "499  [{'code': '73', 'name': 'Municipal governance ...   \n",
      "\n",
      "                                 countryname  \\\n",
      "0    Federal Democratic Republic of Ethiopia   \n",
      "1                        Republic of Tunisia   \n",
      "2                                     Tuvalu   \n",
      "3                          Republic of Yemen   \n",
      "4                         Kingdom of Lesotho   \n",
      "..                                       ...   \n",
      "495                                  Jamaica   \n",
      "496         Lao People's Democratic Republic   \n",
      "497                       Republic of Guinea   \n",
      "498                    Republic of Indonesia   \n",
      "499                        Republic of Kenya   \n",
      "\n",
      "                                                   url source  \\\n",
      "0    http://www.worldbank.org/projects/P129828/ethi...   IBRD   \n",
      "1    http://www.worldbank.org/projects/P144674?lang=en   IBRD   \n",
      "2    http://www.worldbank.org/projects/P145310?lang=en   IBRD   \n",
      "3    http://www.worldbank.org/projects/P144665?lang=en   IBRD   \n",
      "4    http://www.worldbank.org/projects/P144933/seco...   IBRD   \n",
      "..                                                 ...    ...   \n",
      "495  http://www.worldbank.org/projects/P127299/tech...   IBRD   \n",
      "496  http://www.worldbank.org/projects/P125298/lao-...   IBRD   \n",
      "497  http://www.worldbank.org/projects/P128309/seco...   IBRD   \n",
      "498  http://www.worldbank.org/projects/P117243/sust...   IBRD   \n",
      "499  http://www.worldbank.org/projects/P126321/keny...   IBRD   \n",
      "\n",
      "    projectstatusdisplay ibrdcommamt  \\\n",
      "0                 Active           0   \n",
      "1                 Active           0   \n",
      "2                 Active           0   \n",
      "3                 Active           0   \n",
      "4                 Active           0   \n",
      "..                   ...         ...   \n",
      "495               Closed           0   \n",
      "496               Closed           0   \n",
      "497               Active           0   \n",
      "498               Active    80000000   \n",
      "499               Active           0   \n",
      "\n",
      "                                       sector_namecode  \\\n",
      "0    [{'code': 'EP', 'name': 'Primary education'}, ...   \n",
      "1    [{'code': 'BS', 'name': 'Public administration...   \n",
      "2    [{'code': 'TI', 'name': 'Rural and Inter-Urban...   \n",
      "3    [{'code': 'JB', 'name': 'Other social services'}]   \n",
      "4    [{'code': 'YZ', 'name': 'General industry and ...   \n",
      "..                                                 ...   \n",
      "495  [{'code': 'AZ', 'name': 'General agriculture, ...   \n",
      "496  [{'code': 'BC', 'name': 'Central government ad...   \n",
      "497  [{'code': 'AI', 'name': 'Irrigation and draina...   \n",
      "498  [{'code': 'AB', 'name': 'Agricultural extensio...   \n",
      "499  [{'code': 'TC', 'name': 'Urban Transport'}, {'...   \n",
      "\n",
      "                                      _id  \n",
      "0    {'$oid': '52b213b38594d8a2be17c780'}  \n",
      "1    {'$oid': '52b213b38594d8a2be17c781'}  \n",
      "2    {'$oid': '52b213b38594d8a2be17c782'}  \n",
      "3    {'$oid': '52b213b38594d8a2be17c783'}  \n",
      "4    {'$oid': '52b213b38594d8a2be17c784'}  \n",
      "..                                    ...  \n",
      "495  {'$oid': '52b213b38594d8a2be17c96f'}  \n",
      "496  {'$oid': '52b213b38594d8a2be17c970'}  \n",
      "497  {'$oid': '52b213b38594d8a2be17c971'}  \n",
      "498  {'$oid': '52b213b38594d8a2be17c972'}  \n",
      "499  {'$oid': '52b213b38594d8a2be17c973'}  \n",
      "\n",
      "[500 rows x 50 columns]\n"
     ]
    }
   ],
   "source": [
    "print(data)"
   ]
  },
  {
   "cell_type": "code",
   "execution_count": 188,
   "metadata": {},
   "outputs": [],
   "source": [
    "data2 = pd.read_json(PATH2)"
   ]
  },
  {
   "cell_type": "code",
   "execution_count": 189,
   "metadata": {},
   "outputs": [
    {
     "name": "stdout",
     "output_type": "stream",
     "text": [
      "/Users/ayadav/Documents/personal/DS/springboard/data_wrangling_json_3/data/world_bank_projects_less.json\r\n"
     ]
    }
   ],
   "source": [
    "!ls {PATH2}"
   ]
  },
  {
   "cell_type": "code",
   "execution_count": 197,
   "metadata": {},
   "outputs": [
    {
     "data": {
      "text/plain": [
       "500"
      ]
     },
     "execution_count": 197,
     "metadata": {},
     "output_type": "execute_result"
    }
   ],
   "source": [
    "len(data)"
   ]
  },
  {
   "cell_type": "code",
   "execution_count": 213,
   "metadata": {},
   "outputs": [
    {
     "name": "stdout",
     "output_type": "stream",
     "text": [
      "                                         project_name  \\\n",
      "8         Rajasthan Road Sector Modernization Project   \n",
      "14  NATIONAL UNIFIED REGISTRY AND OUTREACH WORKER ...   \n",
      "\n",
      "                    countryname  \n",
      "8             Republic of India  \n",
      "14  Hashemite Kingdom of Jordan  \n"
     ]
    }
   ],
   "source": [
    "print(data.loc[[8,14],['project_name','countryname']])"
   ]
  },
  {
   "cell_type": "markdown",
   "metadata": {},
   "source": [
    "# Find the 10 countries with most projects\\n\""
   ]
  },
  {
   "cell_type": "code",
   "execution_count": 204,
   "metadata": {},
   "outputs": [],
   "source": [
    "All_country = data['countryname'].value_counts()"
   ]
  },
  {
   "cell_type": "code",
   "execution_count": 205,
   "metadata": {},
   "outputs": [
    {
     "name": "stdout",
     "output_type": "stream",
     "text": [
      "Republic of Indonesia              19\n",
      "People's Republic of China         19\n",
      "Socialist Republic of Vietnam      17\n",
      "Republic of India                  16\n",
      "Republic of Yemen                  13\n",
      "Kingdom of Morocco                 12\n",
      "Nepal                              12\n",
      "People's Republic of Bangladesh    12\n",
      "Africa                             11\n",
      "Republic of Mozambique             11\n",
      "Name: countryname, dtype: int64\n"
     ]
    }
   ],
   "source": [
    "print(All_country.head(10))"
   ]
  },
  {
   "cell_type": "markdown",
   "metadata": {},
   "source": [
    "#  Find the top 10 major project themes (using column 'mjtheme_namecode')\\n\""
   ]
  },
  {
   "cell_type": "code",
   "execution_count": null,
   "metadata": {},
   "outputs": [],
   "source": [
    "def getMajorCount(dfCol):\n",
    "    project_dict = {}\n",
    "    for dfcol in project_theme\n",
    "      \n",
    "    "
   ]
  },
  {
   "cell_type": "code",
   "execution_count": 254,
   "metadata": {},
   "outputs": [],
   "source": [
    "df = pd.DataFrame(project_theme)"
   ]
  },
  {
   "cell_type": "code",
   "execution_count": 256,
   "metadata": {},
   "outputs": [
    {
     "data": {
      "text/plain": [
       "pandas.core.frame.DataFrame"
      ]
     },
     "execution_count": 256,
     "metadata": {},
     "output_type": "execute_result"
    }
   ],
   "source": [
    "type(df)"
   ]
  },
  {
   "cell_type": "markdown",
   "metadata": {},
   "source": [
    "### define function for to project name count "
   ]
  },
  {
   "cell_type": "code",
   "execution_count": 273,
   "metadata": {},
   "outputs": [],
   "source": [
    "def getSubjectCount(series):\n",
    "    myDict = {}\n",
    "    for row in series:\n",
    "        ## value of list: dict\n",
    "        for val in row:\n",
    "           \n",
    "            if val['name'] in myDict:\n",
    "                myDict[val['name']] = myDict[val['name']] + 1\n",
    "                \n",
    "               \n",
    "            else:\n",
    "                myDict[val['name']] = 1\n",
    "                \n",
    "    return myDict\n",
    "            \n",
    "        "
   ]
  },
  {
   "cell_type": "code",
   "execution_count": 275,
   "metadata": {},
   "outputs": [],
   "source": [
    "project_value = getSubjectCount(data['mjtheme_namecode'])"
   ]
  },
  {
   "cell_type": "markdown",
   "metadata": {},
   "source": [
    "### Define function to get top n values"
   ]
  },
  {
   "cell_type": "code",
   "execution_count": 286,
   "metadata": {},
   "outputs": [],
   "source": [
    "def top_project(n,sorted_d):\n",
    "    topProject = {}\n",
    "    i = 0\n",
    "    for key,value in sorted_d.items():\n",
    "        if i < n:\n",
    "            topProject[key]=value\n",
    "            i = i+1\n",
    "    return topProject"
   ]
  },
  {
   "cell_type": "code",
   "execution_count": 287,
   "metadata": {},
   "outputs": [],
   "source": [
    "import operator\n",
    "sorted_data = dict(sorted(project_value.items(), key=operator.itemgetter(1),reverse=True))"
   ]
  },
  {
   "cell_type": "code",
   "execution_count": 288,
   "metadata": {},
   "outputs": [
    {
     "name": "stdout",
     "output_type": "stream",
     "text": [
      "{'Environment and natural resources management': 223, 'Rural development': 202, 'Human development': 197, 'Public sector governance': 184, 'Social protection and risk management': 158, 'Financial and private sector development': 130, '': 122, 'Social dev/gender/inclusion': 119, 'Trade and integration': 72, 'Urban development': 47, 'Economic management': 33, 'Rule of law': 12}\n"
     ]
    }
   ],
   "source": [
    "print(sorted_data)"
   ]
  },
  {
   "cell_type": "code",
   "execution_count": 289,
   "metadata": {},
   "outputs": [],
   "source": [
    "l = top_project(11,sorted_data)"
   ]
  },
  {
   "cell_type": "code",
   "execution_count": 290,
   "metadata": {},
   "outputs": [
    {
     "name": "stdout",
     "output_type": "stream",
     "text": [
      "{'Environment and natural resources management': 223, 'Rural development': 202, 'Human development': 197, 'Public sector governance': 184, 'Social protection and risk management': 158, 'Financial and private sector development': 130, '': 122, 'Social dev/gender/inclusion': 119, 'Trade and integration': 72, 'Urban development': 47, 'Economic management': 33}\n"
     ]
    }
   ],
   "source": [
    "print(l)"
   ]
  },
  {
   "cell_type": "code",
   "execution_count": 297,
   "metadata": {},
   "outputs": [],
   "source": [
    "project_theme = data['mjtheme_namecode']"
   ]
  },
  {
   "cell_type": "code",
   "execution_count": 298,
   "metadata": {},
   "outputs": [
    {
     "name": "stdout",
     "output_type": "stream",
     "text": [
      "0    [{'code': '8', 'name': 'Human development'}, {...\n",
      "1    [{'code': '1', 'name': 'Economic management'},...\n",
      "2    [{'code': '5', 'name': 'Trade and integration'...\n",
      "3    [{'code': '7', 'name': 'Social dev/gender/incl...\n",
      "4    [{'code': '5', 'name': 'Trade and integration'...\n",
      "5    [{'code': '6', 'name': 'Social protection and ...\n",
      "6    [{'code': '2', 'name': 'Public sector governan...\n",
      "7    [{'code': '11', 'name': 'Environment and natur...\n",
      "8    [{'code': '10', 'name': 'Rural development'}, ...\n",
      "9    [{'code': '2', 'name': 'Public sector governan...\n",
      "Name: mjtheme_namecode, dtype: object\n"
     ]
    }
   ],
   "source": [
    "print(project_theme.head(10))"
   ]
  },
  {
   "cell_type": "code",
   "execution_count": 294,
   "metadata": {},
   "outputs": [
    {
     "name": "stdout",
     "output_type": "stream",
     "text": [
      "(500,)\n"
     ]
    }
   ],
   "source": [
    "print(project_theme.shape)"
   ]
  },
  {
   "cell_type": "code",
   "execution_count": 295,
   "metadata": {},
   "outputs": [
    {
     "name": "stdout",
     "output_type": "stream",
     "text": [
      "(500,)\n"
     ]
    }
   ],
   "source": [
    "print(project_theme.dropna().shape)"
   ]
  },
  {
   "cell_type": "code",
   "execution_count": 296,
   "metadata": {},
   "outputs": [
    {
     "data": {
      "text/plain": [
       "[{'code': '8', 'name': 'Human development'}, {'code': '11', 'name': ''}]"
      ]
     },
     "execution_count": 296,
     "metadata": {},
     "output_type": "execute_result"
    }
   ],
   "source": [
    "project_theme[0]"
   ]
  },
  {
   "cell_type": "markdown",
   "metadata": {},
   "source": [
    "# In 2. above you will notice that some entries have only the code and the name is missing. Create a dataframe with the missing names filled in.# "
   ]
  },
  {
   "cell_type": "code",
   "execution_count": 299,
   "metadata": {},
   "outputs": [
    {
     "name": "stdout",
     "output_type": "stream",
     "text": [
      "{'Human development': 197, '': 122, 'Economic management': 33, 'Social protection and risk management': 158, 'Trade and integration': 72, 'Public sector governance': 184, 'Environment and natural resources management': 223, 'Social dev/gender/inclusion': 119, 'Financial and private sector development': 130, 'Rural development': 202, 'Urban development': 47, 'Rule of law': 12}\n"
     ]
    }
   ],
   "source": [
    "print(project_value)"
   ]
  },
  {
   "cell_type": "code",
   "execution_count": 301,
   "metadata": {},
   "outputs": [
    {
     "data": {
      "text/plain": [
       "dict"
      ]
     },
     "execution_count": 301,
     "metadata": {},
     "output_type": "execute_result"
    }
   ],
   "source": [
    "type(project_value)"
   ]
  },
  {
   "cell_type": "markdown",
   "metadata": {},
   "source": [
    "### Convert file to dataframe"
   ]
  },
  {
   "cell_type": "code",
   "execution_count": 307,
   "metadata": {},
   "outputs": [],
   "source": [
    "dfProject = pd.DataFrame(project_value.items(), columns=['Project Name', 'Count'])"
   ]
  },
  {
   "cell_type": "code",
   "execution_count": 309,
   "metadata": {},
   "outputs": [
    {
     "data": {
      "text/html": [
       "<div>\n",
       "<style scoped>\n",
       "    .dataframe tbody tr th:only-of-type {\n",
       "        vertical-align: middle;\n",
       "    }\n",
       "\n",
       "    .dataframe tbody tr th {\n",
       "        vertical-align: top;\n",
       "    }\n",
       "\n",
       "    .dataframe thead th {\n",
       "        text-align: right;\n",
       "    }\n",
       "</style>\n",
       "<table border=\"1\" class=\"dataframe\">\n",
       "  <thead>\n",
       "    <tr style=\"text-align: right;\">\n",
       "      <th></th>\n",
       "      <th>Project Name</th>\n",
       "      <th>Count</th>\n",
       "    </tr>\n",
       "  </thead>\n",
       "  <tbody>\n",
       "    <tr>\n",
       "      <th>0</th>\n",
       "      <td>Human development</td>\n",
       "      <td>197</td>\n",
       "    </tr>\n",
       "    <tr>\n",
       "      <th>1</th>\n",
       "      <td></td>\n",
       "      <td>122</td>\n",
       "    </tr>\n",
       "    <tr>\n",
       "      <th>2</th>\n",
       "      <td>Economic management</td>\n",
       "      <td>33</td>\n",
       "    </tr>\n",
       "    <tr>\n",
       "      <th>3</th>\n",
       "      <td>Social protection and risk management</td>\n",
       "      <td>158</td>\n",
       "    </tr>\n",
       "    <tr>\n",
       "      <th>4</th>\n",
       "      <td>Trade and integration</td>\n",
       "      <td>72</td>\n",
       "    </tr>\n",
       "  </tbody>\n",
       "</table>\n",
       "</div>"
      ],
      "text/plain": [
       "                            Project Name  Count\n",
       "0                      Human development    197\n",
       "1                                           122\n",
       "2                    Economic management     33\n",
       "3  Social protection and risk management    158\n",
       "4                  Trade and integration     72"
      ]
     },
     "execution_count": 309,
     "metadata": {},
     "output_type": "execute_result"
    }
   ],
   "source": [
    "dfProject.head()"
   ]
  },
  {
   "cell_type": "markdown",
   "metadata": {},
   "source": [
    "### Replace empty projectname with \"noname\""
   ]
  },
  {
   "cell_type": "code",
   "execution_count": 328,
   "metadata": {},
   "outputs": [],
   "source": [
    "dfProject=dfProject.replace(to_replace = '', value = 'Noname')"
   ]
  },
  {
   "cell_type": "markdown",
   "metadata": {},
   "source": [
    "### check if any project name has empty name"
   ]
  },
  {
   "cell_type": "code",
   "execution_count": 329,
   "metadata": {},
   "outputs": [
    {
     "data": {
      "text/html": [
       "<div>\n",
       "<style scoped>\n",
       "    .dataframe tbody tr th:only-of-type {\n",
       "        vertical-align: middle;\n",
       "    }\n",
       "\n",
       "    .dataframe tbody tr th {\n",
       "        vertical-align: top;\n",
       "    }\n",
       "\n",
       "    .dataframe thead th {\n",
       "        text-align: right;\n",
       "    }\n",
       "</style>\n",
       "<table border=\"1\" class=\"dataframe\">\n",
       "  <thead>\n",
       "    <tr style=\"text-align: right;\">\n",
       "      <th></th>\n",
       "      <th>Project Name</th>\n",
       "      <th>Count</th>\n",
       "    </tr>\n",
       "  </thead>\n",
       "  <tbody>\n",
       "  </tbody>\n",
       "</table>\n",
       "</div>"
      ],
      "text/plain": [
       "Empty DataFrame\n",
       "Columns: [Project Name, Count]\n",
       "Index: []"
      ]
     },
     "execution_count": 329,
     "metadata": {},
     "output_type": "execute_result"
    }
   ],
   "source": [
    "dfProject[(dfProject['Project Name'] == '')]"
   ]
  },
  {
   "cell_type": "code",
   "execution_count": 330,
   "metadata": {},
   "outputs": [
    {
     "name": "stdout",
     "output_type": "stream",
     "text": [
      "                                    Project Name  Count\n",
      "0                              Human development    197\n",
      "1                                         Noname    122\n",
      "2                            Economic management     33\n",
      "3          Social protection and risk management    158\n",
      "4                          Trade and integration     72\n",
      "5                       Public sector governance    184\n",
      "6   Environment and natural resources management    223\n",
      "7                    Social dev/gender/inclusion    119\n",
      "8       Financial and private sector development    130\n",
      "9                              Rural development    202\n",
      "10                             Urban development     47\n",
      "11                                   Rule of law     12\n"
     ]
    }
   ],
   "source": [
    "print(dfProject)"
   ]
  }
 ],
 "metadata": {
  "kernelspec": {
   "display_name": "Python 3",
   "language": "python",
   "name": "python3"
  },
  "language_info": {
   "codemirror_mode": {
    "name": "ipython",
    "version": 3
   },
   "file_extension": ".py",
   "mimetype": "text/x-python",
   "name": "python",
   "nbconvert_exporter": "python",
   "pygments_lexer": "ipython3",
   "version": "3.7.6"
  }
 },
 "nbformat": 4,
 "nbformat_minor": 4
}
