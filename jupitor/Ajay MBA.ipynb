{
 "cells": [
  {
   "cell_type": "code",
   "execution_count": 2,
   "metadata": {},
   "outputs": [],
   "source": [
    "import pandas as pd\n",
    "import matplotlib.pyplot as plt\n",
    "import numpy as np"
   ]
  },
  {
   "cell_type": "code",
   "execution_count": 8,
   "metadata": {},
   "outputs": [],
   "source": [
    "Path = \"/Users/ayadav/downloads/Sabji Maker/Curry Maker.csv\""
   ]
  },
  {
   "cell_type": "code",
   "execution_count": 9,
   "metadata": {},
   "outputs": [],
   "source": [
    "df = pd.read_csv(Path)"
   ]
  },
  {
   "cell_type": "code",
   "execution_count": 32,
   "metadata": {},
   "outputs": [
    {
     "data": {
      "text/html": [
       "<div>\n",
       "<style scoped>\n",
       "    .dataframe tbody tr th:only-of-type {\n",
       "        vertical-align: middle;\n",
       "    }\n",
       "\n",
       "    .dataframe tbody tr th {\n",
       "        vertical-align: top;\n",
       "    }\n",
       "\n",
       "    .dataframe thead th {\n",
       "        text-align: right;\n",
       "    }\n",
       "</style>\n",
       "<table border=\"1\" class=\"dataframe\">\n",
       "  <thead>\n",
       "    <tr style=\"text-align: right;\">\n",
       "      <th></th>\n",
       "      <th>Timestamp</th>\n",
       "      <th>How much total time do you spend cooking curry (sabji) daily?</th>\n",
       "      <th>Gender</th>\n",
       "      <th>Will having a  completely automated curry-maker or sabji-maker save time in your home?</th>\n",
       "      <th>How many times a week do you anticipate using it?</th>\n",
       "      <th>How would you like to learn about this device?</th>\n",
       "      <th>What are the other products that currently solve such a need?</th>\n",
       "      <th>What are the top reasons why would you not use this device?</th>\n",
       "      <th>What key need will this device solve for you?</th>\n",
       "      <th>What are the top features you would like to see in it:</th>\n",
       "      <th>...</th>\n",
       "      <th>Rank the above features in your order of preference. [Ability to do food prep (cook and cut).]</th>\n",
       "      <th>Rank the above features in your order of preference. [Ability to add ingredients automatically in the right proportion.]</th>\n",
       "      <th>Rank the above features in your order of preference. [Ability to saute ingredients.]</th>\n",
       "      <th>Rank the above features in your order of preference. [Ability to cook a variety of foods.]</th>\n",
       "      <th>Rank the above features in your order of preference. [Ability to self clean.]</th>\n",
       "      <th>What should be ideal price range for such a device?</th>\n",
       "      <th>Contact no or email id.</th>\n",
       "      <th>Unnamed: 22</th>\n",
       "      <th>Unnamed: 23</th>\n",
       "      <th>Unnamed: 24</th>\n",
       "    </tr>\n",
       "  </thead>\n",
       "  <tbody>\n",
       "    <tr>\n",
       "      <th>0</th>\n",
       "      <td>2019/11/18 4:04:15 AM GMT+5:30</td>\n",
       "      <td>1h</td>\n",
       "      <td>NaN</td>\n",
       "      <td>No</td>\n",
       "      <td>0</td>\n",
       "      <td>Read about it online.</td>\n",
       "      <td>A family member</td>\n",
       "      <td>Do not want to pay for an expensive device.</td>\n",
       "      <td>Save time.</td>\n",
       "      <td>All of them.</td>\n",
       "      <td>...</td>\n",
       "      <td>4.0</td>\n",
       "      <td>3.0</td>\n",
       "      <td>3.0</td>\n",
       "      <td>4.0</td>\n",
       "      <td>2.0</td>\n",
       "      <td>500-800 USD or 35,000-56,000 INR</td>\n",
       "      <td>NaN</td>\n",
       "      <td>Must have</td>\n",
       "      <td>4.0</td>\n",
       "      <td>2.0</td>\n",
       "    </tr>\n",
       "    <tr>\n",
       "      <th>1</th>\n",
       "      <td>2019/11/18 4:05:20 AM GMT+5:30</td>\n",
       "      <td>2-3h</td>\n",
       "      <td>NaN</td>\n",
       "      <td>Yes</td>\n",
       "      <td>4-7</td>\n",
       "      <td>Read about it online.</td>\n",
       "      <td>A family member</td>\n",
       "      <td>Do not want to pay for an expensive device.</td>\n",
       "      <td>Save time.</td>\n",
       "      <td>All of them.</td>\n",
       "      <td>...</td>\n",
       "      <td>4.0</td>\n",
       "      <td>1.0</td>\n",
       "      <td>3.0</td>\n",
       "      <td>2.0</td>\n",
       "      <td>2.0</td>\n",
       "      <td>100-200 USD or 7,000-14,000 INR</td>\n",
       "      <td>NaN</td>\n",
       "      <td>Must have</td>\n",
       "      <td>1.0</td>\n",
       "      <td>1.0</td>\n",
       "    </tr>\n",
       "    <tr>\n",
       "      <th>2</th>\n",
       "      <td>2019/11/18 4:05:23 AM GMT+5:30</td>\n",
       "      <td>2-3h</td>\n",
       "      <td>NaN</td>\n",
       "      <td>Yes</td>\n",
       "      <td>1-3</td>\n",
       "      <td>Read about it online.;Read about it in iphone/...</td>\n",
       "      <td>A cook who visits my home.</td>\n",
       "      <td>Expect the device to break down quickly.</td>\n",
       "      <td>Save time.</td>\n",
       "      <td>All of them.</td>\n",
       "      <td>...</td>\n",
       "      <td>7.0</td>\n",
       "      <td>7.0</td>\n",
       "      <td>6.0</td>\n",
       "      <td>7.0</td>\n",
       "      <td>6.0</td>\n",
       "      <td>500-800 USD or 35,000-56,000 INR</td>\n",
       "      <td>NaN</td>\n",
       "      <td>Nice to have</td>\n",
       "      <td>5.0</td>\n",
       "      <td>6.0</td>\n",
       "    </tr>\n",
       "    <tr>\n",
       "      <th>3</th>\n",
       "      <td>2019/11/18 4:07:25 AM GMT+5:30</td>\n",
       "      <td>1h</td>\n",
       "      <td>NaN</td>\n",
       "      <td>Yes</td>\n",
       "      <td>1-3</td>\n",
       "      <td>Read about it online.;Read about it in iphone/...</td>\n",
       "      <td>Mixer</td>\n",
       "      <td>Sounds too experimental.</td>\n",
       "      <td>Save time.</td>\n",
       "      <td>Ability to do food prep (chop  &amp; cook without ...</td>\n",
       "      <td>...</td>\n",
       "      <td>1.0</td>\n",
       "      <td>1.0</td>\n",
       "      <td>2.0</td>\n",
       "      <td>3.0</td>\n",
       "      <td>1.0</td>\n",
       "      <td>100-200 USD or 7,000-14,000 INR</td>\n",
       "      <td>NaN</td>\n",
       "      <td>Nice to have</td>\n",
       "      <td>1.0</td>\n",
       "      <td>1.0</td>\n",
       "    </tr>\n",
       "    <tr>\n",
       "      <th>4</th>\n",
       "      <td>2019/11/18 4:47:40 AM GMT+5:30</td>\n",
       "      <td>2-3h</td>\n",
       "      <td>NaN</td>\n",
       "      <td>Yes</td>\n",
       "      <td>4-7</td>\n",
       "      <td>Read about it in iphone/android app.;See demo ...</td>\n",
       "      <td>Me</td>\n",
       "      <td>Do not want to pay for an expensive device.</td>\n",
       "      <td>Save time.</td>\n",
       "      <td>Ability to do food prep (chop  &amp; cook without ...</td>\n",
       "      <td>...</td>\n",
       "      <td>2.0</td>\n",
       "      <td>1.0</td>\n",
       "      <td>1.0</td>\n",
       "      <td>1.0</td>\n",
       "      <td>1.0</td>\n",
       "      <td>200-500 USD or 14,000-35,000 INR</td>\n",
       "      <td>NaN</td>\n",
       "      <td>Must have</td>\n",
       "      <td>4.0</td>\n",
       "      <td>1.0</td>\n",
       "    </tr>\n",
       "  </tbody>\n",
       "</table>\n",
       "<p>5 rows × 25 columns</p>\n",
       "</div>"
      ],
      "text/plain": [
       "                        Timestamp  \\\n",
       "0  2019/11/18 4:04:15 AM GMT+5:30   \n",
       "1  2019/11/18 4:05:20 AM GMT+5:30   \n",
       "2  2019/11/18 4:05:23 AM GMT+5:30   \n",
       "3  2019/11/18 4:07:25 AM GMT+5:30   \n",
       "4  2019/11/18 4:47:40 AM GMT+5:30   \n",
       "\n",
       "  How much total time do you spend cooking curry (sabji) daily? Gender  \\\n",
       "0                                                 1h               NaN   \n",
       "1                                               2-3h               NaN   \n",
       "2                                               2-3h               NaN   \n",
       "3                                                 1h               NaN   \n",
       "4                                               2-3h               NaN   \n",
       "\n",
       "  Will having a  completely automated curry-maker or sabji-maker save time in your home?  \\\n",
       "0                                                 No                                       \n",
       "1                                                Yes                                       \n",
       "2                                                Yes                                       \n",
       "3                                                Yes                                       \n",
       "4                                                Yes                                       \n",
       "\n",
       "  How many times a week do you anticipate using it?  \\\n",
       "0                                                 0   \n",
       "1                                               4-7   \n",
       "2                                               1-3   \n",
       "3                                               1-3   \n",
       "4                                               4-7   \n",
       "\n",
       "      How would you like to learn about this device?  \\\n",
       "0                              Read about it online.   \n",
       "1                              Read about it online.   \n",
       "2  Read about it online.;Read about it in iphone/...   \n",
       "3  Read about it online.;Read about it in iphone/...   \n",
       "4  Read about it in iphone/android app.;See demo ...   \n",
       "\n",
       "  What are the other products that currently solve such a need?  \\\n",
       "0                                    A family member              \n",
       "1                                    A family member              \n",
       "2                         A cook who visits my home.              \n",
       "3                                              Mixer              \n",
       "4                                                 Me              \n",
       "\n",
       "  What are the top reasons why would you not use this device?  \\\n",
       "0        Do not want to pay for an expensive device.            \n",
       "1        Do not want to pay for an expensive device.            \n",
       "2           Expect the device to break down quickly.            \n",
       "3                           Sounds too experimental.            \n",
       "4        Do not want to pay for an expensive device.            \n",
       "\n",
       "  What key need will this device solve for you?  \\\n",
       "0                                    Save time.   \n",
       "1                                    Save time.   \n",
       "2                                    Save time.   \n",
       "3                                    Save time.   \n",
       "4                                    Save time.   \n",
       "\n",
       "  What are the top features you would like to see in it:  ...  \\\n",
       "0                                       All of them.      ...   \n",
       "1                                       All of them.      ...   \n",
       "2                                       All of them.      ...   \n",
       "3  Ability to do food prep (chop  & cook without ...      ...   \n",
       "4  Ability to do food prep (chop  & cook without ...      ...   \n",
       "\n",
       "  Rank the above features in your order of preference. [Ability to do food prep (cook and cut).]  \\\n",
       "0                                                4.0                                               \n",
       "1                                                4.0                                               \n",
       "2                                                7.0                                               \n",
       "3                                                1.0                                               \n",
       "4                                                2.0                                               \n",
       "\n",
       "  Rank the above features in your order of preference. [Ability to add ingredients automatically in the right proportion.]  \\\n",
       "0                                                3.0                                                                         \n",
       "1                                                1.0                                                                         \n",
       "2                                                7.0                                                                         \n",
       "3                                                1.0                                                                         \n",
       "4                                                1.0                                                                         \n",
       "\n",
       "  Rank the above features in your order of preference. [Ability to saute ingredients.]  \\\n",
       "0                                                3.0                                     \n",
       "1                                                3.0                                     \n",
       "2                                                6.0                                     \n",
       "3                                                2.0                                     \n",
       "4                                                1.0                                     \n",
       "\n",
       "  Rank the above features in your order of preference. [Ability to cook a variety of foods.]  \\\n",
       "0                                                4.0                                           \n",
       "1                                                2.0                                           \n",
       "2                                                7.0                                           \n",
       "3                                                3.0                                           \n",
       "4                                                1.0                                           \n",
       "\n",
       "  Rank the above features in your order of preference. [Ability to self clean.]  \\\n",
       "0                                                2.0                              \n",
       "1                                                2.0                              \n",
       "2                                                6.0                              \n",
       "3                                                1.0                              \n",
       "4                                                1.0                              \n",
       "\n",
       "   What should be ideal price range for such a device?  \\\n",
       "0                   500-800 USD or 35,000-56,000 INR     \n",
       "1                    100-200 USD or 7,000-14,000 INR     \n",
       "2                   500-800 USD or 35,000-56,000 INR     \n",
       "3                    100-200 USD or 7,000-14,000 INR     \n",
       "4                   200-500 USD or 14,000-35,000 INR     \n",
       "\n",
       "   Contact no or email id.   Unnamed: 22  Unnamed: 23  Unnamed: 24  \n",
       "0                      NaN     Must have          4.0          2.0  \n",
       "1                      NaN     Must have          1.0          1.0  \n",
       "2                      NaN  Nice to have          5.0          6.0  \n",
       "3                      NaN  Nice to have          1.0          1.0  \n",
       "4                      NaN     Must have          4.0          1.0  \n",
       "\n",
       "[5 rows x 25 columns]"
      ]
     },
     "execution_count": 32,
     "metadata": {},
     "output_type": "execute_result"
    }
   ],
   "source": [
    "df.head()"
   ]
  },
  {
   "cell_type": "code",
   "execution_count": 13,
   "metadata": {},
   "outputs": [
    {
     "data": {
      "text/plain": [
       "pandas.core.frame.DataFrame"
      ]
     },
     "execution_count": 13,
     "metadata": {},
     "output_type": "execute_result"
    }
   ],
   "source": [
    "type(df)"
   ]
  },
  {
   "cell_type": "code",
   "execution_count": 21,
   "metadata": {},
   "outputs": [
    {
     "data": {
      "text/plain": [
       "(48, 25)"
      ]
     },
     "execution_count": 21,
     "metadata": {},
     "output_type": "execute_result"
    }
   ],
   "source": [
    "df.shape"
   ]
  },
  {
   "cell_type": "code",
   "execution_count": null,
   "metadata": {},
   "outputs": [],
   "source": []
  },
  {
   "cell_type": "code",
   "execution_count": 18,
   "metadata": {},
   "outputs": [],
   "source": [
    "df2 = df.rename({'How much total time do you spend cooking curry (sabji) daily?': 'Cook_Duration', 'Will having a  completely automated curry-maker or sabji-maker save time in your home?': 'Automated_currymaker','How many times a week do you anticipate using it?': 'Weekly_Usage','How would you like to learn about this device?': 'Device_learning','What are the other products that currently solve such a need?': 'Similiar_products','What are the top reasons why would you not use this device?':'unused_reason','What key need will this device solve for you?':'key_need','What are the top features you would like to see in it:':'Top_features','What should be ideal price range for such a device?':'expected_price'}, axis=1)"
   ]
  },
  {
   "cell_type": "code",
   "execution_count": 19,
   "metadata": {},
   "outputs": [
    {
     "data": {
      "text/plain": [
       "Index(['Timestamp',\n",
       "       'How much total time do you spend cooking curry (sabji) daily?',\n",
       "       'Gender',\n",
       "       'Will having a  completely automated curry-maker or sabji-maker save time in your home?',\n",
       "       'How many times a week do you anticipate using it?',\n",
       "       'How would you like to learn about this device?',\n",
       "       'What are the other products that currently solve such a need?',\n",
       "       'What are the top reasons why would you not use this device?',\n",
       "       'What key need will this device solve for you?',\n",
       "       'What are the top features you would like to see in it:',\n",
       "       'Classify the above features as a must have or nice to have. [Ability to do food prep (cook and chop)]',\n",
       "       'Classify the above features as a must have or nice to have. [Ability to add ingredients automatically in the right proportion]',\n",
       "       'Classify the above features as a must have or nice to have. [Ability to saute ingredients]',\n",
       "       'Classify the above features as a must have or nice to have. [Ability to cook a variety of foods.]',\n",
       "       'Classify the above features as a must have or nice to have. [Ability to self clean.]',\n",
       "       'Rank the above features in your order of preference. [Ability to do food prep (cook and cut).]',\n",
       "       'Rank the above features in your order of preference. [Ability to add ingredients automatically in the right proportion.]',\n",
       "       'Rank the above features in your order of preference. [Ability to saute ingredients.]',\n",
       "       'Rank the above features in your order of preference. [Ability to cook a variety of foods.]',\n",
       "       'Rank the above features in your order of preference. [Ability to self clean.]',\n",
       "       'What should be ideal price range for such a device?',\n",
       "       'Contact no or email id.', 'Unnamed: 22', 'Unnamed: 23', 'Unnamed: 24'],\n",
       "      dtype='object')"
      ]
     },
     "execution_count": 19,
     "metadata": {},
     "output_type": "execute_result"
    }
   ],
   "source": [
    "df.columns"
   ]
  },
  {
   "cell_type": "code",
   "execution_count": 20,
   "metadata": {},
   "outputs": [
    {
     "data": {
      "text/plain": [
       "Index(['Timestamp', 'Cook_Duration', 'Gender', 'Automated_currymaker',\n",
       "       'Weekly_Usage', 'Device_learning', 'Similiar_products', 'unused_reason',\n",
       "       'key_need', 'Top_features',\n",
       "       'Classify the above features as a must have or nice to have. [Ability to do food prep (cook and chop)]',\n",
       "       'Classify the above features as a must have or nice to have. [Ability to add ingredients automatically in the right proportion]',\n",
       "       'Classify the above features as a must have or nice to have. [Ability to saute ingredients]',\n",
       "       'Classify the above features as a must have or nice to have. [Ability to cook a variety of foods.]',\n",
       "       'Classify the above features as a must have or nice to have. [Ability to self clean.]',\n",
       "       'Rank the above features in your order of preference. [Ability to do food prep (cook and cut).]',\n",
       "       'Rank the above features in your order of preference. [Ability to add ingredients automatically in the right proportion.]',\n",
       "       'Rank the above features in your order of preference. [Ability to saute ingredients.]',\n",
       "       'Rank the above features in your order of preference. [Ability to cook a variety of foods.]',\n",
       "       'Rank the above features in your order of preference. [Ability to self clean.]',\n",
       "       'expected_price', 'Contact no or email id.', 'Unnamed: 22',\n",
       "       'Unnamed: 23', 'Unnamed: 24'],\n",
       "      dtype='object')"
      ]
     },
     "execution_count": 20,
     "metadata": {},
     "output_type": "execute_result"
    }
   ],
   "source": [
    "df2.columns"
   ]
  },
  {
   "cell_type": "code",
   "execution_count": 27,
   "metadata": {},
   "outputs": [
    {
     "data": {
      "text/plain": [
       "1h      0.6875\n",
       "2-3h    0.3125\n",
       "Name: Cook_Duration, dtype: float64"
      ]
     },
     "execution_count": 27,
     "metadata": {},
     "output_type": "execute_result"
    }
   ],
   "source": [
    "df2['Cook_Duration'].value_counts(normalize=True)"
   ]
  },
  {
   "cell_type": "code",
   "execution_count": 98,
   "metadata": {},
   "outputs": [
    {
     "data": {
      "text/plain": [
       "<matplotlib.axes._subplots.AxesSubplot at 0x11b2f3e90>"
      ]
     },
     "execution_count": 98,
     "metadata": {},
     "output_type": "execute_result"
    },
    {
     "data": {
      "image/png": "[encoded data removed]",
      "text/plain": [
       "<Figure size 432x288 with 1 Axes>"
      ]
     },
     "metadata": {
      "needs_background": "light"
     },
     "output_type": "display_data"
    }
   ],
   "source": [
    "df2['Cook_Duration'].value_counts(normalize=True).plot(kind = 'bar', title=\"Time spend in cooking\")"
   ]
  },
  {
   "cell_type": "code",
   "execution_count": 97,
   "metadata": {},
   "outputs": [
    {
     "data": {
      "text/plain": [
       "<matplotlib.axes._subplots.AxesSubplot at 0x11b22b350>"
      ]
     },
     "execution_count": 97,
     "metadata": {},
     "output_type": "execute_result"
    },
    {
     "data": {
      "image/png": "[encoded data removed]",
      "text/plain": [
       "<Figure size 432x288 with 1 Axes>"
      ]
     },
     "metadata": {},
     "output_type": "display_data"
    }
   ],
   "source": [
    "df2['Cook_Duration'].value_counts(normalize=True).plot(kind = 'pie', title=\"Time spend in cooking\")"
   ]
  },
  {
   "cell_type": "code",
   "execution_count": 35,
   "metadata": {},
   "outputs": [
    {
     "data": {
      "text/plain": [
       "<matplotlib.axes._subplots.AxesSubplot at 0x11aa56f10>"
      ]
     },
     "execution_count": 35,
     "metadata": {},
     "output_type": "execute_result"
    },
    {
     "data": {
      "image/png": "[encoded data removed]",
      "text/plain": [
       "<Figure size 432x288 with 1 Axes>"
      ]
     },
     "metadata": {
      "needs_background": "light"
     },
     "output_type": "display_data"
    }
   ],
   "source": [
    "df2['Automated_currymaker'].value_counts(normalize=True).plot(kind = 'bar',title=\"Having automated_currymaker bless!\")"
   ]
  },
  {
   "cell_type": "code",
   "execution_count": 96,
   "metadata": {},
   "outputs": [
    {
     "data": {
      "text/plain": [
       "<matplotlib.axes._subplots.AxesSubplot at 0x11b13bd50>"
      ]
     },
     "execution_count": 96,
     "metadata": {},
     "output_type": "execute_result"
    },
    {
     "data": {
      "image/png": "[encoded data removed]",
      "text/plain": [
       "<Figure size 432x288 with 1 Axes>"
      ]
     },
     "metadata": {
      "needs_background": "light"
     },
     "output_type": "display_data"
    }
   ],
   "source": [
    "df2['Gender'].value_counts(normalize=True).plot(kind = 'bar',title=\"Gender\")"
   ]
  },
  {
   "cell_type": "code",
   "execution_count": 88,
   "metadata": {},
   "outputs": [],
   "source": [
    "low = df2[df2['Weekly_Usage'] == str(0)]\n",
    "high = df2[df2['Weekly_Usage'] >= str(4)]\n",
    "medium = df2[df2['Weekly_Usage'] >= str(3)]\n"
   ]
  },
  {
   "cell_type": "code",
   "execution_count": 89,
   "metadata": {},
   "outputs": [
    {
     "data": {
      "text/plain": [
       "20"
      ]
     },
     "execution_count": 89,
     "metadata": {},
     "output_type": "execute_result"
    }
   ],
   "source": [
    "len(high)"
   ]
  },
  {
   "cell_type": "code",
   "execution_count": 90,
   "metadata": {},
   "outputs": [
    {
     "data": {
      "text/plain": [
       "20"
      ]
     },
     "execution_count": 90,
     "metadata": {},
     "output_type": "execute_result"
    }
   ],
   "source": [
    "len(medium)"
   ]
  },
  {
   "cell_type": "code",
   "execution_count": 91,
   "metadata": {},
   "outputs": [
    {
     "data": {
      "text/plain": [
       "8"
      ]
     },
     "execution_count": 91,
     "metadata": {},
     "output_type": "execute_result"
    }
   ],
   "source": [
    "len(low)"
   ]
  },
  {
   "cell_type": "code",
   "execution_count": null,
   "metadata": {},
   "outputs": [],
   "source": []
  }
 ],
 "metadata": {
  "kernelspec": {
   "display_name": "Python 3",
   "language": "python",
   "name": "python3"
  },
  "language_info": {
   "codemirror_mode": {
    "name": "ipython",
    "version": 3
   },
   "file_extension": ".py",
   "mimetype": "text/x-python",
   "name": "python",
   "nbconvert_exporter": "python",
   "pygments_lexer": "ipython3",
   "version": "3.7.6"
  }
 },
 "nbformat": 4,
 "nbformat_minor": 4
}
